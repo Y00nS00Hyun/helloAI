import numpy as np
import torch





data=[[1,2],[3,4]]
x_data=torch.tensor(data)


x_data


x_data.dtype





shape = (2,3)
rand_tensor = torch.rand(shape)
print(f"Random Tensor: \n {rand_tensor}\n")

ones_tensor = torch.ones(shape)
print(f"Random Tensor: \n {ones_tensor}\n")

zeros_tensor = torch.zeros(shape)
print(f"Random Tensor: \n {zeros_tensor}\n")





#import library
import numpy as np
import torch
from torch.utils.data import Dataset
from torchvision import datasets
from torchvision.transforms import ToTensor
import matplotlib.pyplot as plt
import os


#cache 폴더 생성
os.makedirs("../.cache", exist_ok=True)


#데이터셋 불러오기
training_data = datasets.CIFAR10(
    root="../.cache",
    train=True,
    download=True,
    transform=ToTensor()
)


test_data = datasets.CIFAR10(
    root="../.cache",
    train=False,
    download=True,
    transform=ToTensor()
)



