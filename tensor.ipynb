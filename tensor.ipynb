{
 "cells": [
  {
   "cell_type": "code",
   "execution_count": 4,
   "id": "bd7f0087-351f-4530-bd6b-c7a60d06d15c",
   "metadata": {},
   "outputs": [],
   "source": [
    "import numpy as np\n",
    "import torch"
   ]
  },
  {
   "cell_type": "markdown",
   "id": "d40330fb-4c09-45ec-84b2-dbce12e0a2c7",
   "metadata": {},
   "source": [
    "## 초기화 방법 1. 내가 값 지정하기"
   ]
  },
  {
   "cell_type": "code",
   "execution_count": 5,
   "id": "3cd89d45-55e5-46c6-a020-a5b31f99b184",
   "metadata": {},
   "outputs": [],
   "source": [
    "data=[[1,2],[3,4]]\n",
    "x_data=torch.tensor(data)"
   ]
  },
  {
   "cell_type": "code",
   "execution_count": 6,
   "id": "b8b516f0-3cef-4cdc-b31f-7de657d8e92f",
   "metadata": {},
   "outputs": [
    {
     "data": {
      "text/plain": [
       "tensor([[1, 2],\n",
       "        [3, 4]])"
      ]
     },
     "execution_count": 6,
     "metadata": {},
     "output_type": "execute_result"
    }
   ],
   "source": [
    "x_data"
   ]
  },
  {
   "cell_type": "code",
   "execution_count": 12,
   "id": "09e623f6-aa56-4f55-b9fb-e3e8a73539bc",
   "metadata": {},
   "outputs": [
    {
     "data": {
      "text/plain": [
       "torch.int64"
      ]
     },
     "execution_count": 12,
     "metadata": {},
     "output_type": "execute_result"
    }
   ],
   "source": [
    "x_data.dtype"
   ]
  },
  {
   "cell_type": "markdown",
   "id": "a835ae0f-e711-487c-bfb6-95e0b96d40c0",
   "metadata": {},
   "source": [
    "## 초기화 방법 2. 랜덤 값 사용"
   ]
  },
  {
   "cell_type": "code",
   "execution_count": 14,
   "id": "b8a3fd49-d98a-486f-a95a-1bda5adb5afc",
   "metadata": {},
   "outputs": [
    {
     "name": "stdout",
     "output_type": "stream",
     "text": [
      "Random Tensor: \n",
      " tensor([[0.6336, 0.5017, 0.0399],\n",
      "        [0.2220, 0.8609, 0.1554]])\n",
      "\n",
      "Random Tensor: \n",
      " tensor([[1., 1., 1.],\n",
      "        [1., 1., 1.]])\n",
      "\n",
      "Random Tensor: \n",
      " tensor([[0., 0., 0.],\n",
      "        [0., 0., 0.]])\n",
      "\n"
     ]
    }
   ],
   "source": [
    "shape = (2,3)\n",
    "rand_tensor = torch.rand(shape)\n",
    "print(f\"Random Tensor: \\n {rand_tensor}\\n\")\n",
    "\n",
    "ones_tensor = torch.ones(shape)\n",
    "print(f\"Random Tensor: \\n {ones_tensor}\\n\")\n",
    "\n",
    "zeros_tensor = torch.zeros(shape)\n",
    "print(f\"Random Tensor: \\n {zeros_tensor}\\n\")"
   ]
  },
  {
   "cell_type": "markdown",
   "id": "fcd20e21-434e-4f39-b56c-47b1df9ba689",
   "metadata": {},
   "source": [
    "## CIFAR10 데이터셋 불러오기\n",
    "1. root = dataset 받을 위치\n",
    "2. train = train 데이터셋인지 test 데이터셋인지\n",
    "3. download = 다운로드 받을거니\n",
    "4. transform = 이미지를 어떻게 transform 할거니"
   ]
  },
  {
   "cell_type": "code",
   "execution_count": 15,
   "id": "213c7b65-4cc1-4f43-9f36-63fd7d9cb6ce",
   "metadata": {},
   "outputs": [],
   "source": [
    "#import library\n",
    "import numpy as np\n",
    "import torch\n",
    "from torch.utils.data import Dataset\n",
    "from torchvision import datasets\n",
    "from torchvision.transforms import ToTensor\n",
    "import matplotlib.pyplot as plt\n",
    "import os"
   ]
  },
  {
   "cell_type": "code",
   "execution_count": 17,
   "id": "c7809107-5e1a-4a67-97cc-04d85cce9c98",
   "metadata": {},
   "outputs": [],
   "source": [
    "#cache 폴더 생성\n",
    "os.makedirs(\"../.cache\", exist_ok=True)"
   ]
  },
  {
   "cell_type": "code",
   "execution_count": 18,
   "id": "b057727c-d4e3-4510-a581-5407da493c30",
   "metadata": {
    "scrolled": true
   },
   "outputs": [
    {
     "name": "stdout",
     "output_type": "stream",
     "text": [
      "Downloading https://www.cs.toronto.edu/~kriz/cifar-10-python.tar.gz to ../.cache\\cifar-10-python.tar.gz\n"
     ]
    },
    {
     "name": "stderr",
     "output_type": "stream",
     "text": [
      "100%|██████████████████████████████████████████████| 170M/170M [00:49<00:00, 3.47MB/s]\n"
     ]
    },
    {
     "name": "stdout",
     "output_type": "stream",
     "text": [
      "Extracting ../.cache\\cifar-10-python.tar.gz to ../.cache\n"
     ]
    }
   ],
   "source": [
    "#데이터셋 불러오기\n",
    "training_data = datasets.CIFAR10(\n",
    "    root=\"../.cache\",\n",
    "    train=True,\n",
    "    download=True,\n",
    "    transform=ToTensor()\n",
    ")"
   ]
  },
  {
   "cell_type": "code",
   "execution_count": 19,
   "id": "81979641-e402-4fbc-bbe7-fa4ae767ea93",
   "metadata": {},
   "outputs": [
    {
     "name": "stdout",
     "output_type": "stream",
     "text": [
      "Files already downloaded and verified\n"
     ]
    }
   ],
   "source": [
    "test_data = datasets.CIFAR10(\n",
    "    root=\"../.cache\",\n",
    "    train=False,\n",
    "    download=True,\n",
    "    transform=ToTensor()\n",
    ")"
   ]
  },
  {
   "cell_type": "code",
   "execution_count": null,
   "id": "db83665c-fd1a-4e07-8667-50152ecda506",
   "metadata": {},
   "outputs": [],
   "source": []
  }
 ],
 "metadata": {
  "kernelspec": {
   "display_name": "Python 3 (ipykernel)",
   "language": "python",
   "name": "python3"
  },
  "language_info": {
   "codemirror_mode": {
    "name": "ipython",
    "version": 3
   },
   "file_extension": ".py",
   "mimetype": "text/x-python",
   "name": "python",
   "nbconvert_exporter": "python",
   "pygments_lexer": "ipython3",
   "version": "3.11.14"
  }
 },
 "nbformat": 4,
 "nbformat_minor": 5
}
